{
 "cells": [
  {
   "cell_type": "code",
   "execution_count": 2,
   "metadata": {},
   "outputs": [
    {
     "name": "stdout",
     "output_type": "stream",
     "text": [
      "Index(['alser->Name', 'alser->Price', 'alser->Mark', 'alser->prod_type',\n",
      "       'alser->Size', 'alser->OS', 'alser->processor', 'alser->frequency',\n",
      "       'alser->RAM', 'alser->Hard_type', 'alser->Volume ', 'alser->Videocard'],\n",
      "      dtype='object')\n",
      "     id     price  market\n",
      "0   s59  379990.0   Alser\n",
      "1    s4  336990.0   Alser\n",
      "2  s180  589990.0   Alser\n",
      "3  s150  399990.0   Alser\n",
      "4  s239  459990.0   Alser\n",
      "5   s59  419990.0  Sulpak\n",
      "6    s4  339890.0  Sulpak\n",
      "7  s180  499990.0  Sulpak\n",
      "8  s150  379990.0  Sulpak\n",
      "9  s239  419990.0  Sulpak\n"
     ]
    },
    {
     "name": "stderr",
     "output_type": "stream",
     "text": [
      "<ipython-input-2-c47c1922bb49>:24: SettingWithCopyWarning: \n",
      "A value is trying to be set on a copy of a slice from a DataFrame.\n",
      "Try using .loc[row_indexer,col_indexer] = value instead\n",
      "\n",
      "See the caveats in the documentation: https://pandas.pydata.org/pandas-docs/stable/user_guide/indexing.html#returning-a-view-versus-a-copy\n",
      "  all_lap1['market'] = \"Alser\"\n",
      "<ipython-input-2-c47c1922bb49>:26: SettingWithCopyWarning: \n",
      "A value is trying to be set on a copy of a slice from a DataFrame.\n",
      "Try using .loc[row_indexer,col_indexer] = value instead\n",
      "\n",
      "See the caveats in the documentation: https://pandas.pydata.org/pandas-docs/stable/user_guide/indexing.html#returning-a-view-versus-a-copy\n",
      "  all_lap1['price'] = all_lap1['Price']\n",
      "<ipython-input-2-c47c1922bb49>:29: SettingWithCopyWarning: \n",
      "A value is trying to be set on a copy of a slice from a DataFrame.\n",
      "Try using .loc[row_indexer,col_indexer] = value instead\n",
      "\n",
      "See the caveats in the documentation: https://pandas.pydata.org/pandas-docs/stable/user_guide/indexing.html#returning-a-view-versus-a-copy\n",
      "  all_lap2['market'] = \"Sulpak\"\n"
     ]
    }
   ],
   "source": [
    "import pandas as pd\n",
    "import numpy as np\n",
    "\n",
    "sulpak_laptop = pd.read_csv('data2/Final_laptop_sulpak.csv')\n",
    "alser_laptop = pd.read_csv('data/laptopss_alser_kz.csv', sep=';', encoding=\"cp1251\")\n",
    "alfa_laptop = pd.read_csv('data2/alfakz_notebooks.csv')\n",
    "print(\"alser->\"+alser_laptop.columns)\n",
    "# print(\"alfa->\"+alfa_laptop.columns)\n",
    "# print(\"sulpak->\"+sulpak_laptop.columns)\n",
    "alser_laptop['Price'] = alser_laptop['Price'].str.split().str.join('') \n",
    "alfa_laptop['Price'] = alfa_laptop['Price'].str.replace(' ','') \n",
    "\n",
    "alser_laptop['laptop_id'] = alser_laptop['Name'].apply(lambda name: name[name.rindex('(')+1:-1])\n",
    "# print(alser_laptop.head(1))\n",
    "sulpak_laptop.loc[sulpak_laptop['code2'] != '', 'code2'] = sulpak_laptop['code2'].str.replace('(','')\n",
    "sulpak_laptop.loc[sulpak_laptop['code2'] != '', 'code2'] = sulpak_laptop['code2'].str.replace(')','')\n",
    "                                    \n",
    "all_laptop = pd.merge(alser_laptop, sulpak_laptop, left_on='laptop_id', right_on='code2')\n",
    "indexNames = all_laptop[abs(all_laptop['Price'].astype('float') - all_laptop['price'].astype('float')) < 101].index\n",
    "# Delete these row indexes from dataFrame\n",
    "all_laptop.drop(indexNames , inplace=True)\n",
    "\n",
    "all_lap1 = all_laptop[['id','Price']]\n",
    "all_lap1['market'] = \"Alser\"\n",
    "\n",
    "all_lap1['price'] = all_lap1['Price']\n",
    "all_lap1 = all_lap1[['id', 'price', 'market']]\n",
    "all_lap2 = all_laptop[['id','price']]\n",
    "all_lap2['market'] = \"Sulpak\"\n",
    "\n",
    "all_lap = all_lap1.append(all_lap2, ignore_index = True)\n",
    "all_lap['price'] = all_lap['price'].astype('float')\n",
    "print(all_lap)"
   ]
  },
  {
   "cell_type": "code",
   "execution_count": 3,
   "metadata": {},
   "outputs": [
    {
     "name": "stdout",
     "output_type": "stream",
     "text": [
      "277\n",
      "Acer      101.0\n",
      "Asus       62.0\n",
      "Apple      49.0\n",
      "Lenovo     44.0\n",
      "HP         18.0\n",
      "Huawei      2.0\n",
      "Xiaomi      1.0\n",
      "Name: brand, dtype: float64\n"
     ]
    },
    {
     "name": "stderr",
     "output_type": "stream",
     "text": [
      "/Library/Frameworks/Python.framework/Versions/3.8/lib/python3.8/site-packages/seaborn/_decorators.py:36: FutureWarning: Pass the following variables as keyword args: x, y. From version 0.12, the only valid positional argument will be `data`, and passing other arguments without an explicit keyword will result in an error or misinterpretation.\n",
      "  warnings.warn(\n"
     ]
    },
    {
     "data": {
      "text/plain": [
       "<AxesSubplot:>"
      ]
     },
     "execution_count": 3,
     "metadata": {},
     "output_type": "execute_result"
    },
    {
     "data": {
      "image/png": "[encoded data removed]",
      "text/plain": [
       "<Figure size 432x288 with 1 Axes>"
      ]
     },
     "metadata": {},
     "output_type": "display_data"
    }
   ],
   "source": [
    "import seaborn as sns\n",
    "sns.set_theme(style=\"whitegrid\")\n",
    "item_counts = sulpak_laptop[\"brand\"].value_counts(normalize=True)\n",
    "print(sulpak_laptop[\"brand\"].count())\n",
    "# print(item_counts * 277)\n",
    "types = (item_counts * 277)\n",
    "print(types)\n",
    "\n",
    "# who v/s fare barplot \n",
    "sns.barplot(types.index, types.values, alpha=0.8)\n"
   ]
  },
  {
   "cell_type": "code",
   "execution_count": 10,
   "metadata": {},
   "outputs": [
    {
     "name": "stdout",
     "output_type": "stream",
     "text": [
      "sulpak    416827.545126\n",
      "alser     508797.261364\n",
      "alfa      545875.267148\n",
      "dtype: float64\n"
     ]
    },
    {
     "name": "stderr",
     "output_type": "stream",
     "text": [
      "/Library/Frameworks/Python.framework/Versions/3.8/lib/python3.8/site-packages/seaborn/_decorators.py:36: FutureWarning: Pass the following variables as keyword args: x, y. From version 0.12, the only valid positional argument will be `data`, and passing other arguments without an explicit keyword will result in an error or misinterpretation.\n",
      "  warnings.warn(\n"
     ]
    },
    {
     "data": {
      "text/plain": [
       "<AxesSubplot:>"
      ]
     },
     "execution_count": 10,
     "metadata": {},
     "output_type": "execute_result"
    },
    {
     "data": {
      "image/png": "[encoded data removed]",
      "text/plain": [
       "<Figure size 432x288 with 1 Axes>"
      ]
     },
     "metadata": {},
     "output_type": "display_data"
    }
   ],
   "source": [
    "all_prices = pd.DataFrame() \n",
    "all_prices['sulpak'] = sulpak_laptop['price'].astype('float')\n",
    "all_prices['alser'] = alser_laptop['Price'].astype('float')\n",
    "all_prices['alfa'] = alfa_laptop['Price'].astype('float')\n",
    "prices = all_prices.mean(skipna = True)\n",
    "print(all_prices.mean(skipna = True))\n",
    "\n",
    "sns.barplot(prices.index, prices.values, alpha=0.8)"
   ]
  },
  {
   "cell_type": "code",
   "execution_count": 4,
   "metadata": {},
   "outputs": [
    {
     "data": {
      "text/plain": [
       "<AxesSubplot:xlabel='id', ylabel='price'>"
      ]
     },
     "execution_count": 4,
     "metadata": {},
     "output_type": "execute_result"
    },
    {
     "data": {
      "image/png": "[encoded data removed]",
      "text/plain": [
       "<Figure size 432x288 with 1 Axes>"
      ]
     },
     "metadata": {},
     "output_type": "display_data"
    }
   ],
   "source": [
    "sns.barplot(x=\"id\", y=\"price\", hue = \"market\", data=all_lap, alpha=0.8)"
   ]
  },
  {
   "cell_type": "code",
   "execution_count": 5,
   "metadata": {},
   "outputs": [
    {
     "name": "stdout",
     "output_type": "stream",
     "text": [
      "sulpak    193209.391892\n",
      "alser     179299.820359\n",
      "alfa      245878.010667\n",
      "dtype: float64\n"
     ]
    },
    {
     "name": "stderr",
     "output_type": "stream",
     "text": [
      "/Library/Frameworks/Python.framework/Versions/3.8/lib/python3.8/site-packages/seaborn/_decorators.py:36: FutureWarning: Pass the following variables as keyword args: x, y. From version 0.12, the only valid positional argument will be `data`, and passing other arguments without an explicit keyword will result in an error or misinterpretation.\n",
      "  warnings.warn(\n"
     ]
    },
    {
     "data": {
      "text/plain": [
       "<AxesSubplot:>"
      ]
     },
     "execution_count": 5,
     "metadata": {},
     "output_type": "execute_result"
    },
    {
     "data": {
      "image/png": "[encoded data removed]",
      "text/plain": [
       "<Figure size 432x288 with 1 Axes>"
      ]
     },
     "metadata": {},
     "output_type": "display_data"
    }
   ],
   "source": [
    "# -----------Smartphones---------------\n",
    "sulpak_phone = pd.read_csv('data2/Final_phone_sulpak.csv')\n",
    "alser_phone = pd.read_csv('data2/smartphones_alser_kzz.csv', sep=\";\")\n",
    "alfa_phone = pd.read_csv('data2/alfakz_phones.csv')\n",
    "\n",
    "alser_phone['Price'] = alser_phone['Price'].str.split().str.join('') \n",
    "alfa_phone['Price'] = alfa_phone['Price'].str.replace(' ','') \n",
    "\n",
    "all_prices = pd.DataFrame() \n",
    "all_prices['sulpak'] = sulpak_phone['price'].astype('float')\n",
    "all_prices['alser'] = alser_phone['Price'].astype('float')\n",
    "all_prices['alfa'] = alfa_phone['Price'].astype('float')\n",
    "prices = all_prices.mean(skipna = True)\n",
    "print(all_prices.mean(skipna = True))\n",
    "\n",
    "sns.barplot(prices.index, prices.values, alpha=0.8)\n",
    "\n",
    "\n"
   ]
  },
  {
   "cell_type": "code",
   "execution_count": 7,
   "metadata": {},
   "outputs": [
    {
     "name": "stdout",
     "output_type": "stream",
     "text": [
      "sulpak    336888.684211\n",
      "alser     183776.363636\n",
      "alfa      260553.486842\n",
      "dtype: float64\n"
     ]
    },
    {
     "name": "stderr",
     "output_type": "stream",
     "text": [
      "/Library/Frameworks/Python.framework/Versions/3.8/lib/python3.8/site-packages/seaborn/_decorators.py:36: FutureWarning: Pass the following variables as keyword args: x, y. From version 0.12, the only valid positional argument will be `data`, and passing other arguments without an explicit keyword will result in an error or misinterpretation.\n",
      "  warnings.warn(\n"
     ]
    },
    {
     "data": {
      "text/plain": [
       "<AxesSubplot:>"
      ]
     },
     "execution_count": 7,
     "metadata": {},
     "output_type": "execute_result"
    },
    {
     "data": {
      "image/png": "[encoded data removed]",
      "text/plain": [
       "<Figure size 432x288 with 1 Axes>"
      ]
     },
     "metadata": {},
     "output_type": "display_data"
    }
   ],
   "source": [
    "# -----------Tablets---------------\n",
    "sulpak_tablet = pd.read_csv('data2/Final_tablets_sulpak.csv')\n",
    "alser_tablet = pd.read_csv('data2/tablets_alser_kz.csv', sep=\";\")\n",
    "alfa_tablet = pd.read_csv('data2/alfakz_Tablets.csv')\n",
    "\n",
    "alser_tablet['Price'] = alser_phone['Price'].str.split().str.join('') \n",
    "alfa_tablet['Price'] = alfa_phone['Price'].str.replace(' ','') \n",
    "\n",
    "all_prices = pd.DataFrame() \n",
    "all_prices['sulpak'] = sulpak_tablet['price'].astype('float')\n",
    "all_prices['alser'] = alser_tablet['Price'].astype('float')\n",
    "all_prices['alfa'] = alfa_tablet['Price'].astype('float')\n",
    "prices = all_prices.mean(skipna = True)\n",
    "print(all_prices.mean(skipna = True))\n",
    "\n",
    "sns.barplot(prices.index, prices.values, alpha=0.8)\n"
   ]
  },
  {
   "cell_type": "code",
   "execution_count": 12,
   "metadata": {},
   "outputs": [
    {
     "name": "stdout",
     "output_type": "stream",
     "text": [
      "sulpak    152\n",
      "alser      22\n",
      "alfa      152\n",
      "dtype: int64\n"
     ]
    },
    {
     "name": "stderr",
     "output_type": "stream",
     "text": [
      "/Library/Frameworks/Python.framework/Versions/3.8/lib/python3.8/site-packages/seaborn/_decorators.py:36: FutureWarning: Pass the following variables as keyword args: x, y. From version 0.12, the only valid positional argument will be `data`, and passing other arguments without an explicit keyword will result in an error or misinterpretation.\n",
      "  warnings.warn(\n"
     ]
    },
    {
     "data": {
      "text/plain": [
       "<AxesSubplot:>"
      ]
     },
     "execution_count": 12,
     "metadata": {},
     "output_type": "execute_result"
    },
    {
     "data": {
      "image/png": "[encoded data removed]",
      "text/plain": [
       "<Figure size 432x288 with 1 Axes>"
      ]
     },
     "metadata": {},
     "output_type": "display_data"
    }
   ],
   "source": [
    "all_count = pd.DataFrame() \n",
    "all_count['sulpak'] = sulpak_tablet['price'].count()\n",
    "all_count['alser'] = alser_tablet['Price'].count()\n",
    "all_count['alfa'] = alfa_tablet['Price'].count()\n",
    "count = all_prices.count()\n",
    "print(all_prices.count())\n",
    "\n",
    "sns.barplot(count.index, count.values, alpha=0.8)"
   ]
  },
  {
   "cell_type": "code",
   "execution_count": 13,
   "metadata": {},
   "outputs": [
    {
     "name": "stdout",
     "output_type": "stream",
     "text": [
      "sulpak    634115.783972\n",
      "alser     190899.459459\n",
      "alfa      253261.658537\n",
      "dtype: float64\n"
     ]
    },
    {
     "name": "stderr",
     "output_type": "stream",
     "text": [
      "/Library/Frameworks/Python.framework/Versions/3.8/lib/python3.8/site-packages/seaborn/_decorators.py:36: FutureWarning: Pass the following variables as keyword args: x, y. From version 0.12, the only valid positional argument will be `data`, and passing other arguments without an explicit keyword will result in an error or misinterpretation.\n",
      "  warnings.warn(\n"
     ]
    },
    {
     "data": {
      "text/plain": [
       "<AxesSubplot:>"
      ]
     },
     "execution_count": 13,
     "metadata": {},
     "output_type": "execute_result"
    },
    {
     "data": {
      "image/png": "[encoded data removed]",
      "text/plain": [
       "<Figure size 432x288 with 1 Axes>"
      ]
     },
     "metadata": {},
     "output_type": "display_data"
    }
   ],
   "source": [
    "# -----------TV---------------\n",
    "sulpak_tv = pd.read_csv('data2/Final_tv_sulpak.csv')\n",
    "alser_tv = pd.read_csv('data2/televizor_alser_kz.csv', sep=\";\")\n",
    "alfa_tv = pd.read_csv('data2/alfakz_TVs.csv')\n",
    "\n",
    "alser_tv['Price'] = alser_phone['Price'].str.split().str.join('') \n",
    "alfa_tv['Price'] = alfa_phone['Price'].str.replace(' ','') \n",
    "\n",
    "all_prices = pd.DataFrame() \n",
    "all_prices['sulpak'] = sulpak_tv['price'].astype('float')\n",
    "all_prices['alser'] = alser_tv['Price'].astype('float')\n",
    "all_prices['alfa'] = alfa_tv['Price'].astype('float')\n",
    "prices = all_prices.mean(skipna = True)\n",
    "print(all_prices.mean(skipna = True))\n",
    "\n",
    "sns.barplot(prices.index, prices.values, alpha=0.8)"
   ]
  },
  {
   "cell_type": "code",
   "execution_count": null,
   "metadata": {},
   "outputs": [],
   "source": []
  }
 ],
 "metadata": {
  "kernelspec": {
   "display_name": "Python 3",
   "language": "python",
   "name": "python3"
  },
  "language_info": {
   "codemirror_mode": {
    "name": "ipython",
    "version": 3
   },
   "file_extension": ".py",
   "mimetype": "text/x-python",
   "name": "python",
   "nbconvert_exporter": "python",
   "pygments_lexer": "ipython3",
   "version": "3.8.3"
  }
 },
 "nbformat": 4,
 "nbformat_minor": 4
}
